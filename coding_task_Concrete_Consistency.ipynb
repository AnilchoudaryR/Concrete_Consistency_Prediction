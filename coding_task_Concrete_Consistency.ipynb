{
 "cells": [
  {
   "attachments": {
    "image.png": {
     "image/png": "[encoded data removed]"
    }
   },
   "cell_type": "markdown",
   "metadata": {},
   "source": [
    "## Introduction\n",
    "\n",
    "In this test task you will have an opportunity to demonstrate your skills of a Data Scientist from various angles - processing data, analyzing and visualizing it, finding insights, applying predictive techniques and explaining your reasoning about it.\n",
    "\n",
    "![image.png](attachment:image.png)\n",
    "\n",
    "The task is based on measurement data from one concrete mixer. The concrete mixer is equipped with sensors which measure oil pressure of the hydraulic drum engine, drum rotation speed & concrete weight. The concrete consistency is measured once at the mixing plant site outside of the mixing drum by a defined measurement procedure (https://en.wikipedia.org/wiki/Flow_table_test).\n",
    "\n",
    "Please go through the steps below, build up the necessary code and comment on your choices."
   ]
  },
  {
   "cell_type": "markdown",
   "metadata": {},
   "source": [
    "## Part 1 - Data Loading and Environment Preparation\n",
    "\n",
    "**Tasks:**\n",
    "1. Prepare a Python 3 virtual environment (with virtualenv command). requirements.txt output of pip freeze command should be included as part of your submission.\n",
    "2. Load the data \"feature_vector.csv\" into Python runtime as Pandas dataframe."
   ]
  },
  {
   "cell_type": "code",
   "execution_count": 194,
   "metadata": {},
   "outputs": [],
   "source": [
    "#Importing required libraries\n",
    "\n",
    "import pandas as pd\n",
    "import numpy as np\n",
    "import seaborn as sns #visualisation\n",
    "import matplotlib.pyplot as plt #visualisation\n",
    "%matplotlib inline \n",
    "sns.set(color_codes=True)\n",
    "from sklearn.model_selection import train_test_split\n",
    "from sklearn.preprocessing import StandardScaler\n",
    "from statistics import mean"
   ]
  },
  {
   "cell_type": "code",
   "execution_count": 195,
   "metadata": {},
   "outputs": [
    {
     "data": {
      "text/html": [
       "<div>\n",
       "<style scoped>\n",
       "    .dataframe tbody tr th:only-of-type {\n",
       "        vertical-align: middle;\n",
       "    }\n",
       "\n",
       "    .dataframe tbody tr th {\n",
       "        vertical-align: top;\n",
       "    }\n",
       "\n",
       "    .dataframe thead th {\n",
       "        text-align: right;\n",
       "    }\n",
       "</style>\n",
       "<table border=\"1\" class=\"dataframe\">\n",
       "  <thead>\n",
       "    <tr style=\"text-align: right;\">\n",
       "      <th></th>\n",
       "      <th>event_datetime</th>\n",
       "      <th>filename</th>\n",
       "      <th>DrumSpeed_rpm</th>\n",
       "      <th>ConcreteWeight_t</th>\n",
       "      <th>ConcreteConsistency_mm</th>\n",
       "      <th>HydraulicPressureDelta_bar</th>\n",
       "    </tr>\n",
       "  </thead>\n",
       "  <tbody>\n",
       "    <tr>\n",
       "      <th>0</th>\n",
       "      <td>2021-02-24 12:17:18</td>\n",
       "      <td>CondiMonCam_168_2021_02_24_14_13_19.csv.gz</td>\n",
       "      <td>3.63</td>\n",
       "      <td>17974.31</td>\n",
       "      <td>420.0</td>\n",
       "      <td>69.91</td>\n",
       "    </tr>\n",
       "    <tr>\n",
       "      <th>1</th>\n",
       "      <td>2021-02-24 12:17:19</td>\n",
       "      <td>CondiMonCam_168_2021_02_24_14_13_19.csv.gz</td>\n",
       "      <td>3.62</td>\n",
       "      <td>17974.31</td>\n",
       "      <td>420.0</td>\n",
       "      <td>68.91</td>\n",
       "    </tr>\n",
       "    <tr>\n",
       "      <th>2</th>\n",
       "      <td>2021-02-24 12:17:20</td>\n",
       "      <td>CondiMonCam_168_2021_02_24_14_13_19.csv.gz</td>\n",
       "      <td>3.62</td>\n",
       "      <td>17974.31</td>\n",
       "      <td>420.0</td>\n",
       "      <td>69.71</td>\n",
       "    </tr>\n",
       "    <tr>\n",
       "      <th>3</th>\n",
       "      <td>2021-02-24 12:17:21</td>\n",
       "      <td>CondiMonCam_168_2021_02_24_14_13_19.csv.gz</td>\n",
       "      <td>3.62</td>\n",
       "      <td>17974.31</td>\n",
       "      <td>420.0</td>\n",
       "      <td>67.79</td>\n",
       "    </tr>\n",
       "    <tr>\n",
       "      <th>4</th>\n",
       "      <td>2021-02-24 12:17:22</td>\n",
       "      <td>CondiMonCam_168_2021_02_24_14_13_19.csv.gz</td>\n",
       "      <td>3.62</td>\n",
       "      <td>17974.31</td>\n",
       "      <td>420.0</td>\n",
       "      <td>66.94</td>\n",
       "    </tr>\n",
       "  </tbody>\n",
       "</table>\n",
       "</div>"
      ],
      "text/plain": [
       "        event_datetime                                    filename  \\\n",
       "0  2021-02-24 12:17:18  CondiMonCam_168_2021_02_24_14_13_19.csv.gz   \n",
       "1  2021-02-24 12:17:19  CondiMonCam_168_2021_02_24_14_13_19.csv.gz   \n",
       "2  2021-02-24 12:17:20  CondiMonCam_168_2021_02_24_14_13_19.csv.gz   \n",
       "3  2021-02-24 12:17:21  CondiMonCam_168_2021_02_24_14_13_19.csv.gz   \n",
       "4  2021-02-24 12:17:22  CondiMonCam_168_2021_02_24_14_13_19.csv.gz   \n",
       "\n",
       "   DrumSpeed_rpm  ConcreteWeight_t  ConcreteConsistency_mm  \\\n",
       "0           3.63          17974.31                   420.0   \n",
       "1           3.62          17974.31                   420.0   \n",
       "2           3.62          17974.31                   420.0   \n",
       "3           3.62          17974.31                   420.0   \n",
       "4           3.62          17974.31                   420.0   \n",
       "\n",
       "   HydraulicPressureDelta_bar  \n",
       "0                       69.91  \n",
       "1                       68.91  \n",
       "2                       69.71  \n",
       "3                       67.79  \n",
       "4                       66.94  "
      ]
     },
     "execution_count": 195,
     "metadata": {},
     "output_type": "execute_result"
    }
   ],
   "source": [
    "\n",
    "\n",
    "#Loading the data into the data frame\n",
    "df = pd.read_csv(r\"C:\\Users\\Anilchoudary R\\Desktop\\feature_vector (1).csv\")\n",
    "\n",
    "# To display the top 5 rows\n",
    "df.head(5)\n"
   ]
  },
  {
   "cell_type": "markdown",
   "metadata": {},
   "source": [
    "## Part 2 - Data Processing and Analysis\n",
    "\n",
    "**Tasks:**\n",
    "1. Visualize drum rotation speed (\"DrumSpeed_rpm\"), concrete weight (\"ConcreteWeight_t\"), concrete consistency (\"ConcreteConsistency_mm\") & hydraulic pressure of drum engine (\"HydraulicPresssureDelta_bar\").\n",
    "2. Explain the data set"
   ]
  },
  {
   "cell_type": "code",
   "execution_count": 196,
   "metadata": {},
   "outputs": [
    {
     "data": {
      "text/plain": [
       "(777, 6)"
      ]
     },
     "execution_count": 196,
     "metadata": {},
     "output_type": "execute_result"
    }
   ],
   "source": [
    "# Checking the size of the data set\n",
    "df.shape\n"
   ]
  },
  {
   "cell_type": "markdown",
   "metadata": {},
   "source": [
    "The data set has 777 rows and 6 columns. "
   ]
  },
  {
   "cell_type": "code",
   "execution_count": 197,
   "metadata": {},
   "outputs": [
    {
     "data": {
      "text/plain": [
       "Index(['event_datetime', 'filename', 'DrumSpeed_rpm', 'ConcreteWeight_t',\n",
       "       'ConcreteConsistency_mm', 'HydraulicPressureDelta_bar'],\n",
       "      dtype='object')"
      ]
     },
     "execution_count": 197,
     "metadata": {},
     "output_type": "execute_result"
    }
   ],
   "source": [
    "# To check for the columns names in the dataset\n",
    "\n",
    "df.columns"
   ]
  },
  {
   "cell_type": "code",
   "execution_count": 198,
   "metadata": {},
   "outputs": [
    {
     "data": {
      "text/plain": [
       "event_datetime                 object\n",
       "filename                       object\n",
       "DrumSpeed_rpm                 float64\n",
       "ConcreteWeight_t              float64\n",
       "ConcreteConsistency_mm        float64\n",
       "HydraulicPressureDelta_bar    float64\n",
       "dtype: object"
      ]
     },
     "execution_count": 198,
     "metadata": {},
     "output_type": "execute_result"
    }
   ],
   "source": [
    "# Checking for the type of feature columns\n",
    "df.dtypes"
   ]
  },
  {
   "cell_type": "markdown",
   "metadata": {},
   "source": [
    "### Understanding the Statistical Summary of the data"
   ]
  },
  {
   "cell_type": "markdown",
   "metadata": {},
   "source": [
    "Describe function computes the summary of statistics pertaining to the Data Frame columns"
   ]
  },
  {
   "cell_type": "code",
   "execution_count": 199,
   "metadata": {},
   "outputs": [
    {
     "data": {
      "text/html": [
       "<div>\n",
       "<style scoped>\n",
       "    .dataframe tbody tr th:only-of-type {\n",
       "        vertical-align: middle;\n",
       "    }\n",
       "\n",
       "    .dataframe tbody tr th {\n",
       "        vertical-align: top;\n",
       "    }\n",
       "\n",
       "    .dataframe thead th {\n",
       "        text-align: right;\n",
       "    }\n",
       "</style>\n",
       "<table border=\"1\" class=\"dataframe\">\n",
       "  <thead>\n",
       "    <tr style=\"text-align: right;\">\n",
       "      <th></th>\n",
       "      <th>DrumSpeed_rpm</th>\n",
       "      <th>ConcreteWeight_t</th>\n",
       "      <th>ConcreteConsistency_mm</th>\n",
       "      <th>HydraulicPressureDelta_bar</th>\n",
       "    </tr>\n",
       "  </thead>\n",
       "  <tbody>\n",
       "    <tr>\n",
       "      <th>count</th>\n",
       "      <td>777.000000</td>\n",
       "      <td>777.000000</td>\n",
       "      <td>777.000000</td>\n",
       "      <td>777.000000</td>\n",
       "    </tr>\n",
       "    <tr>\n",
       "      <th>mean</th>\n",
       "      <td>5.265045</td>\n",
       "      <td>14942.323385</td>\n",
       "      <td>518.476319</td>\n",
       "      <td>46.004929</td>\n",
       "    </tr>\n",
       "    <tr>\n",
       "      <th>std</th>\n",
       "      <td>2.979962</td>\n",
       "      <td>5029.304402</td>\n",
       "      <td>60.699936</td>\n",
       "      <td>16.804872</td>\n",
       "    </tr>\n",
       "    <tr>\n",
       "      <th>min</th>\n",
       "      <td>0.870000</td>\n",
       "      <td>2861.840000</td>\n",
       "      <td>400.000000</td>\n",
       "      <td>5.710000</td>\n",
       "    </tr>\n",
       "    <tr>\n",
       "      <th>25%</th>\n",
       "      <td>3.680000</td>\n",
       "      <td>10940.000000</td>\n",
       "      <td>505.000000</td>\n",
       "      <td>31.940000</td>\n",
       "    </tr>\n",
       "    <tr>\n",
       "      <th>50%</th>\n",
       "      <td>3.720000</td>\n",
       "      <td>17835.240000</td>\n",
       "      <td>525.000000</td>\n",
       "      <td>45.440000</td>\n",
       "    </tr>\n",
       "    <tr>\n",
       "      <th>75%</th>\n",
       "      <td>7.620000</td>\n",
       "      <td>18620.000000</td>\n",
       "      <td>553.330000</td>\n",
       "      <td>56.640000</td>\n",
       "    </tr>\n",
       "    <tr>\n",
       "      <th>max</th>\n",
       "      <td>11.580000</td>\n",
       "      <td>18820.000000</td>\n",
       "      <td>631.670000</td>\n",
       "      <td>98.880000</td>\n",
       "    </tr>\n",
       "  </tbody>\n",
       "</table>\n",
       "</div>"
      ],
      "text/plain": [
       "       DrumSpeed_rpm  ConcreteWeight_t  ConcreteConsistency_mm  \\\n",
       "count     777.000000        777.000000              777.000000   \n",
       "mean        5.265045      14942.323385              518.476319   \n",
       "std         2.979962       5029.304402               60.699936   \n",
       "min         0.870000       2861.840000              400.000000   \n",
       "25%         3.680000      10940.000000              505.000000   \n",
       "50%         3.720000      17835.240000              525.000000   \n",
       "75%         7.620000      18620.000000              553.330000   \n",
       "max        11.580000      18820.000000              631.670000   \n",
       "\n",
       "       HydraulicPressureDelta_bar  \n",
       "count                  777.000000  \n",
       "mean                    46.004929  \n",
       "std                     16.804872  \n",
       "min                      5.710000  \n",
       "25%                     31.940000  \n",
       "50%                     45.440000  \n",
       "75%                     56.640000  \n",
       "max                     98.880000  "
      ]
     },
     "execution_count": 199,
     "metadata": {},
     "output_type": "execute_result"
    }
   ],
   "source": [
    "df.describe()"
   ]
  },
  {
   "cell_type": "markdown",
   "metadata": {},
   "source": [
    "The above dataframe shows the different statistical measures of each featutre. We can note down the values of mean, standard deviation, minimum, maximum value of each feature. This analysis helps us to understand the range of values and spread of each feature."
   ]
  },
  {
   "cell_type": "markdown",
   "metadata": {},
   "source": [
    "### Dropping irrelevant columns\n",
    "\n",
    "This step is essential in any EDA since there are occasions when we have a large number of columns that we never utilise; in these circumstances, dropping is the only option. In this case, the columns such as 'filename' and 'event_datetime'  doesn't make any sense to me so I just dropped for this instance\n"
   ]
  },
  {
   "cell_type": "code",
   "execution_count": 200,
   "metadata": {},
   "outputs": [
    {
     "data": {
      "text/html": [
       "<div>\n",
       "<style scoped>\n",
       "    .dataframe tbody tr th:only-of-type {\n",
       "        vertical-align: middle;\n",
       "    }\n",
       "\n",
       "    .dataframe tbody tr th {\n",
       "        vertical-align: top;\n",
       "    }\n",
       "\n",
       "    .dataframe thead th {\n",
       "        text-align: right;\n",
       "    }\n",
       "</style>\n",
       "<table border=\"1\" class=\"dataframe\">\n",
       "  <thead>\n",
       "    <tr style=\"text-align: right;\">\n",
       "      <th></th>\n",
       "      <th>DrumSpeed_rpm</th>\n",
       "      <th>ConcreteWeight_t</th>\n",
       "      <th>ConcreteConsistency_mm</th>\n",
       "      <th>HydraulicPressureDelta_bar</th>\n",
       "    </tr>\n",
       "  </thead>\n",
       "  <tbody>\n",
       "    <tr>\n",
       "      <th>0</th>\n",
       "      <td>3.63</td>\n",
       "      <td>17974.31</td>\n",
       "      <td>420.0</td>\n",
       "      <td>69.91</td>\n",
       "    </tr>\n",
       "    <tr>\n",
       "      <th>1</th>\n",
       "      <td>3.62</td>\n",
       "      <td>17974.31</td>\n",
       "      <td>420.0</td>\n",
       "      <td>68.91</td>\n",
       "    </tr>\n",
       "    <tr>\n",
       "      <th>2</th>\n",
       "      <td>3.62</td>\n",
       "      <td>17974.31</td>\n",
       "      <td>420.0</td>\n",
       "      <td>69.71</td>\n",
       "    </tr>\n",
       "    <tr>\n",
       "      <th>3</th>\n",
       "      <td>3.62</td>\n",
       "      <td>17974.31</td>\n",
       "      <td>420.0</td>\n",
       "      <td>67.79</td>\n",
       "    </tr>\n",
       "    <tr>\n",
       "      <th>4</th>\n",
       "      <td>3.62</td>\n",
       "      <td>17974.31</td>\n",
       "      <td>420.0</td>\n",
       "      <td>66.94</td>\n",
       "    </tr>\n",
       "  </tbody>\n",
       "</table>\n",
       "</div>"
      ],
      "text/plain": [
       "   DrumSpeed_rpm  ConcreteWeight_t  ConcreteConsistency_mm  \\\n",
       "0           3.63          17974.31                   420.0   \n",
       "1           3.62          17974.31                   420.0   \n",
       "2           3.62          17974.31                   420.0   \n",
       "3           3.62          17974.31                   420.0   \n",
       "4           3.62          17974.31                   420.0   \n",
       "\n",
       "   HydraulicPressureDelta_bar  \n",
       "0                       69.91  \n",
       "1                       68.91  \n",
       "2                       69.71  \n",
       "3                       67.79  \n",
       "4                       66.94  "
      ]
     },
     "execution_count": 200,
     "metadata": {},
     "output_type": "execute_result"
    }
   ],
   "source": [
    "# Dropping irrelevant columns\n",
    "\n",
    "df = df.drop(['event_datetime','filename'], axis=1)\n",
    "df.head(5)"
   ]
  },
  {
   "cell_type": "markdown",
   "metadata": {},
   "source": [
    "### Dropping the missing or null values"
   ]
  },
  {
   "cell_type": "code",
   "execution_count": 201,
   "metadata": {},
   "outputs": [
    {
     "name": "stdout",
     "output_type": "stream",
     "text": [
      "DrumSpeed_rpm                 0\n",
      "ConcreteWeight_t              0\n",
      "ConcreteConsistency_mm        0\n",
      "HydraulicPressureDelta_bar    0\n",
      "dtype: int64\n"
     ]
    }
   ],
   "source": [
    "\n",
    "#Checking for null values\n",
    "print(df.isnull().sum())"
   ]
  },
  {
   "cell_type": "markdown",
   "metadata": {},
   "source": [
    "In the current data set, we do not have a missing value that need to be computed. so i am proceeding further with any data dropping or imoutation"
   ]
  },
  {
   "cell_type": "markdown",
   "metadata": {},
   "source": [
    "### Detecting Outliers"
   ]
  },
  {
   "cell_type": "markdown",
   "metadata": {},
   "source": [
    "An outlier is a point or a group of points that are not like the others. They might be extremely high or extremely low at times. Detecting and removing outliers is frequently a good idea. Because outliers are one of the most common causes of a model's inaccuracy. As a result, it's a good idea to get rid of them. The approach I'll use to find and remove outliers is known as the IQR score technique. Outliers are frequently seen in box plot displays. Often outliers can be seen with visualizations using a box plot. Shown below are the box plot of DrumSpeed_rpm, ConcreteWeight_t, ConcreteConsistency_mm,    HydraulicPressureDelta_bar."
   ]
  },
  {
   "cell_type": "code",
   "execution_count": 202,
   "metadata": {},
   "outputs": [
    {
     "data": {
      "text/plain": [
       "<AxesSubplot:xlabel='DrumSpeed_rpm'>"
      ]
     },
     "execution_count": 202,
     "metadata": {},
     "output_type": "execute_result"
    },
    {
     "data": {
      "image/png": "[encoded data removed]",
      "text/plain": [
       "<Figure size 432x288 with 1 Axes>"
      ]
     },
     "metadata": {},
     "output_type": "display_data"
    }
   ],
   "source": [
    "sns.boxplot(x=df['DrumSpeed_rpm'])"
   ]
  },
  {
   "cell_type": "code",
   "execution_count": 203,
   "metadata": {},
   "outputs": [
    {
     "data": {
      "text/plain": [
       "<AxesSubplot:xlabel='ConcreteWeight_t'>"
      ]
     },
     "execution_count": 203,
     "metadata": {},
     "output_type": "execute_result"
    },
    {
     "data": {
      "image/png": "[encoded data removed]",
      "text/plain": [
       "<Figure size 432x288 with 1 Axes>"
      ]
     },
     "metadata": {},
     "output_type": "display_data"
    }
   ],
   "source": [
    "sns.boxplot(x=df['ConcreteWeight_t'])"
   ]
  },
  {
   "cell_type": "code",
   "execution_count": 204,
   "metadata": {},
   "outputs": [
    {
     "data": {
      "text/plain": [
       "<AxesSubplot:xlabel='HydraulicPressureDelta_bar'>"
      ]
     },
     "execution_count": 204,
     "metadata": {},
     "output_type": "execute_result"
    },
    {
     "data": {
      "image/png": "[encoded data removed]",
      "text/plain": [
       "<Figure size 432x288 with 1 Axes>"
      ]
     },
     "metadata": {},
     "output_type": "display_data"
    }
   ],
   "source": [
    "sns.boxplot(x=df['HydraulicPressureDelta_bar'])"
   ]
  },
  {
   "cell_type": "code",
   "execution_count": 205,
   "metadata": {},
   "outputs": [
    {
     "data": {
      "text/plain": [
       "<AxesSubplot:xlabel='ConcreteConsistency_mm'>"
      ]
     },
     "execution_count": 205,
     "metadata": {},
     "output_type": "execute_result"
    },
    {
     "data": {
      "image/png": "[encoded data removed]",
      "text/plain": [
       "<Figure size 432x288 with 1 Axes>"
      ]
     },
     "metadata": {},
     "output_type": "display_data"
    }
   ],
   "source": [
    "sns.boxplot(x=df['ConcreteConsistency_mm'])"
   ]
  },
  {
   "cell_type": "markdown",
   "metadata": {},
   "source": [
    "Here in the first two plots, we do not see any points outside the outlier, but in the case of features 'HydraulicPressureDelta_bar' and 'ConcreteConsistency_mm', we do.\n",
    "\n",
    "We can find some points that are outside the box; they are none other than outliers.\n",
    "\n",
    "The approach of discovering and deleting outliers that I used in this project was inspired by a blog from 'towards data science'(https://towardsdatascience.com/ways-to-detect-and-remove-the-outliers-404d16608dba)"
   ]
  },
  {
   "cell_type": "code",
   "execution_count": 206,
   "metadata": {},
   "outputs": [
    {
     "name": "stdout",
     "output_type": "stream",
     "text": [
      "DrumSpeed_rpm                    3.94\n",
      "ConcreteWeight_t              7680.00\n",
      "ConcreteConsistency_mm          48.33\n",
      "HydraulicPressureDelta_bar      24.70\n",
      "dtype: float64\n"
     ]
    }
   ],
   "source": [
    "Q1 = df.quantile(0.25)\n",
    "Q3 = df.quantile(0.75)\n",
    "IQR = Q3-Q1\n",
    "print(IQR)"
   ]
  },
  {
   "cell_type": "code",
   "execution_count": 207,
   "metadata": {},
   "outputs": [
    {
     "data": {
      "text/plain": [
       "(650, 4)"
      ]
     },
     "execution_count": 207,
     "metadata": {},
     "output_type": "execute_result"
    }
   ],
   "source": [
    "df = df[~((df < (Q1-1.5 * IQR)) |(df > (Q3 + 1.5 * IQR))).any(axis=1)]\n",
    "df.shape"
   ]
  },
  {
   "cell_type": "markdown",
   "metadata": {},
   "source": [
    "There were originally 777 rows in the data frame. so there were 127 outlier points excisted, which are been removed from IQR technique."
   ]
  },
  {
   "cell_type": "code",
   "execution_count": 208,
   "metadata": {},
   "outputs": [
    {
     "data": {
      "text/html": [
       "<div>\n",
       "<style scoped>\n",
       "    .dataframe tbody tr th:only-of-type {\n",
       "        vertical-align: middle;\n",
       "    }\n",
       "\n",
       "    .dataframe tbody tr th {\n",
       "        vertical-align: top;\n",
       "    }\n",
       "\n",
       "    .dataframe thead th {\n",
       "        text-align: right;\n",
       "    }\n",
       "</style>\n",
       "<table border=\"1\" class=\"dataframe\">\n",
       "  <thead>\n",
       "    <tr style=\"text-align: right;\">\n",
       "      <th></th>\n",
       "      <th>DrumSpeed_rpm</th>\n",
       "      <th>ConcreteWeight_t</th>\n",
       "      <th>ConcreteConsistency_mm</th>\n",
       "      <th>HydraulicPressureDelta_bar</th>\n",
       "    </tr>\n",
       "  </thead>\n",
       "  <tbody>\n",
       "    <tr>\n",
       "      <th>count</th>\n",
       "      <td>650.000000</td>\n",
       "      <td>650.000000</td>\n",
       "      <td>650.000000</td>\n",
       "      <td>650.000000</td>\n",
       "    </tr>\n",
       "    <tr>\n",
       "      <th>mean</th>\n",
       "      <td>5.225892</td>\n",
       "      <td>14261.878215</td>\n",
       "      <td>531.283615</td>\n",
       "      <td>42.491108</td>\n",
       "    </tr>\n",
       "    <tr>\n",
       "      <th>std</th>\n",
       "      <td>2.993344</td>\n",
       "      <td>5233.508080</td>\n",
       "      <td>43.106443</td>\n",
       "      <td>14.954669</td>\n",
       "    </tr>\n",
       "    <tr>\n",
       "      <th>min</th>\n",
       "      <td>0.870000</td>\n",
       "      <td>2861.840000</td>\n",
       "      <td>448.330000</td>\n",
       "      <td>5.710000</td>\n",
       "    </tr>\n",
       "    <tr>\n",
       "      <th>25%</th>\n",
       "      <td>3.680000</td>\n",
       "      <td>10940.000000</td>\n",
       "      <td>508.330000</td>\n",
       "      <td>29.945000</td>\n",
       "    </tr>\n",
       "    <tr>\n",
       "      <th>50%</th>\n",
       "      <td>3.730000</td>\n",
       "      <td>17811.940000</td>\n",
       "      <td>531.670000</td>\n",
       "      <td>42.440000</td>\n",
       "    </tr>\n",
       "    <tr>\n",
       "      <th>75%</th>\n",
       "      <td>7.630000</td>\n",
       "      <td>18405.720000</td>\n",
       "      <td>553.330000</td>\n",
       "      <td>52.617500</td>\n",
       "    </tr>\n",
       "    <tr>\n",
       "      <th>max</th>\n",
       "      <td>11.580000</td>\n",
       "      <td>18820.000000</td>\n",
       "      <td>615.000000</td>\n",
       "      <td>88.920000</td>\n",
       "    </tr>\n",
       "  </tbody>\n",
       "</table>\n",
       "</div>"
      ],
      "text/plain": [
       "       DrumSpeed_rpm  ConcreteWeight_t  ConcreteConsistency_mm  \\\n",
       "count     650.000000        650.000000              650.000000   \n",
       "mean        5.225892      14261.878215              531.283615   \n",
       "std         2.993344       5233.508080               43.106443   \n",
       "min         0.870000       2861.840000              448.330000   \n",
       "25%         3.680000      10940.000000              508.330000   \n",
       "50%         3.730000      17811.940000              531.670000   \n",
       "75%         7.630000      18405.720000              553.330000   \n",
       "max        11.580000      18820.000000              615.000000   \n",
       "\n",
       "       HydraulicPressureDelta_bar  \n",
       "count                  650.000000  \n",
       "mean                    42.491108  \n",
       "std                     14.954669  \n",
       "min                      5.710000  \n",
       "25%                     29.945000  \n",
       "50%                     42.440000  \n",
       "75%                     52.617500  \n",
       "max                     88.920000  "
      ]
     },
     "execution_count": 208,
     "metadata": {},
     "output_type": "execute_result"
    }
   ],
   "source": [
    "df.describe()"
   ]
  },
  {
   "cell_type": "code",
   "execution_count": 209,
   "metadata": {},
   "outputs": [
    {
     "name": "stderr",
     "output_type": "stream",
     "text": [
      "C:\\Users\\Anilchoudary R\\.conda\\envs\\liebherr_env\\lib\\site-packages\\seaborn\\distributions.py:2619: FutureWarning: `distplot` is a deprecated function and will be removed in a future version. Please adapt your code to use either `displot` (a figure-level function with similar flexibility) or `histplot` (an axes-level function for histograms).\n",
      "  warnings.warn(msg, FutureWarning)\n",
      "C:\\Users\\Anilchoudary R\\.conda\\envs\\liebherr_env\\lib\\site-packages\\seaborn\\distributions.py:2619: FutureWarning: `distplot` is a deprecated function and will be removed in a future version. Please adapt your code to use either `displot` (a figure-level function with similar flexibility) or `histplot` (an axes-level function for histograms).\n",
      "  warnings.warn(msg, FutureWarning)\n",
      "C:\\Users\\Anilchoudary R\\.conda\\envs\\liebherr_env\\lib\\site-packages\\seaborn\\distributions.py:2619: FutureWarning: `distplot` is a deprecated function and will be removed in a future version. Please adapt your code to use either `displot` (a figure-level function with similar flexibility) or `histplot` (an axes-level function for histograms).\n",
      "  warnings.warn(msg, FutureWarning)\n",
      "C:\\Users\\Anilchoudary R\\.conda\\envs\\liebherr_env\\lib\\site-packages\\seaborn\\distributions.py:2619: FutureWarning: `distplot` is a deprecated function and will be removed in a future version. Please adapt your code to use either `displot` (a figure-level function with similar flexibility) or `histplot` (an axes-level function for histograms).\n",
      "  warnings.warn(msg, FutureWarning)\n"
     ]
    },
    {
     "data": {
      "image/png": "[encoded data removed]",
      "text/plain": [
       "<Figure size 1080x1080 with 4 Axes>"
      ]
     },
     "metadata": {},
     "output_type": "display_data"
    }
   ],
   "source": [
    "# Plotting histograms of the following numerical attributes --      # \"engine-size\", \"peak-rpm\",\"horsepower\",\"price\"\n",
    "hist_col_names = [\"DrumSpeed_rpm\", \"ConcreteWeight_t\",\"HydraulicPressureDelta_bar\",\"ConcreteConsistency_mm\"]\n",
    "for i in hist_col_names:\n",
    "    df[i] = df[i].astype(float) # It changes data type\n",
    "plt.figure(figsize=(15,15))\n",
    "cnt=1\n",
    "for i in hist_col_names:\n",
    "    plt.subplot(4,2,cnt)\n",
    "    sns.distplot(df[i], hist=True, color = 'darkblue', kde_kws={'linewidth': 4})\n",
    "    plt.title(i)\n",
    "    cnt=cnt+1\n",
    "plt.tight_layout()\n",
    "plt.show()"
   ]
  },
  {
   "cell_type": "markdown",
   "metadata": {},
   "source": [
    "The above histograms shows the distribution of data points of each feature. It is evident from plots that the data points are spread over a range of values. "
   ]
  },
  {
   "cell_type": "code",
   "execution_count": 210,
   "metadata": {},
   "outputs": [
    {
     "data": {
      "text/html": [
       "<div>\n",
       "<style scoped>\n",
       "    .dataframe tbody tr th:only-of-type {\n",
       "        vertical-align: middle;\n",
       "    }\n",
       "\n",
       "    .dataframe tbody tr th {\n",
       "        vertical-align: top;\n",
       "    }\n",
       "\n",
       "    .dataframe thead th {\n",
       "        text-align: right;\n",
       "    }\n",
       "</style>\n",
       "<table border=\"1\" class=\"dataframe\">\n",
       "  <thead>\n",
       "    <tr style=\"text-align: right;\">\n",
       "      <th></th>\n",
       "      <th>DrumSpeed_rpm</th>\n",
       "      <th>ConcreteWeight_t</th>\n",
       "      <th>ConcreteConsistency_mm</th>\n",
       "      <th>HydraulicPressureDelta_bar</th>\n",
       "    </tr>\n",
       "  </thead>\n",
       "  <tbody>\n",
       "    <tr>\n",
       "      <th>DrumSpeed_rpm</th>\n",
       "      <td>1.000000</td>\n",
       "      <td>-0.132238</td>\n",
       "      <td>-0.101752</td>\n",
       "      <td>0.596360</td>\n",
       "    </tr>\n",
       "    <tr>\n",
       "      <th>ConcreteWeight_t</th>\n",
       "      <td>-0.132238</td>\n",
       "      <td>1.000000</td>\n",
       "      <td>0.350217</td>\n",
       "      <td>-0.034921</td>\n",
       "    </tr>\n",
       "    <tr>\n",
       "      <th>ConcreteConsistency_mm</th>\n",
       "      <td>-0.101752</td>\n",
       "      <td>0.350217</td>\n",
       "      <td>1.000000</td>\n",
       "      <td>-0.606262</td>\n",
       "    </tr>\n",
       "    <tr>\n",
       "      <th>HydraulicPressureDelta_bar</th>\n",
       "      <td>0.596360</td>\n",
       "      <td>-0.034921</td>\n",
       "      <td>-0.606262</td>\n",
       "      <td>1.000000</td>\n",
       "    </tr>\n",
       "  </tbody>\n",
       "</table>\n",
       "</div>"
      ],
      "text/plain": [
       "                            DrumSpeed_rpm  ConcreteWeight_t  \\\n",
       "DrumSpeed_rpm                    1.000000         -0.132238   \n",
       "ConcreteWeight_t                -0.132238          1.000000   \n",
       "ConcreteConsistency_mm          -0.101752          0.350217   \n",
       "HydraulicPressureDelta_bar       0.596360         -0.034921   \n",
       "\n",
       "                            ConcreteConsistency_mm  HydraulicPressureDelta_bar  \n",
       "DrumSpeed_rpm                            -0.101752                    0.596360  \n",
       "ConcreteWeight_t                          0.350217                   -0.034921  \n",
       "ConcreteConsistency_mm                    1.000000                   -0.606262  \n",
       "HydraulicPressureDelta_bar               -0.606262                    1.000000  "
      ]
     },
     "execution_count": 210,
     "metadata": {},
     "output_type": "execute_result"
    },
    {
     "data": {
      "image/png": "[encoded data removed]",
      "text/plain": [
       "<Figure size 720x360 with 2 Axes>"
      ]
     },
     "metadata": {},
     "output_type": "display_data"
    }
   ],
   "source": [
    "# Finding the relations between the variables.\n",
    "plt.figure(figsize=(10,5))\n",
    "c= df.corr()\n",
    "sns.heatmap(c,cmap=\"BrBG\",annot=True)\n",
    "c"
   ]
  },
  {
   "cell_type": "markdown",
   "metadata": {},
   "source": [
    "When we need to determine the dependent variables, we need to use a form of visualisation called a heat map. Heat maps are one of the most effective tools for determining the relationship between features. We can see from the heat map below that the Concrete consistancy depends negatively on feature 'HydraulicPressureDelta_bar' and positively on 'concreteweight_t' features. These dependencies are vary imporatant to understand and model the problem for a regression task. "
   ]
  },
  {
   "cell_type": "code",
   "execution_count": 211,
   "metadata": {},
   "outputs": [
    {
     "data": {
      "image/png": "[encoded data removed]",
      "text/plain": [
       "<Figure size 720x432 with 1 Axes>"
      ]
     },
     "metadata": {},
     "output_type": "display_data"
    }
   ],
   "source": [
    "# Plotting a scatter plot\n",
    "fig, ax = plt.subplots(figsize=(10,6))\n",
    "ax.scatter(df['ConcreteWeight_t'], df ['ConcreteConsistency_mm'])\n",
    "ax.set_xlabel('ConcreteWeight_t')\n",
    "ax.set_ylabel('ConcreteConsistency_mm')\n",
    "plt.show()"
   ]
  },
  {
   "cell_type": "code",
   "execution_count": 212,
   "metadata": {},
   "outputs": [
    {
     "data": {
      "image/png": "[encoded data removed]",
      "text/plain": [
       "<Figure size 720x432 with 1 Axes>"
      ]
     },
     "metadata": {},
     "output_type": "display_data"
    }
   ],
   "source": [
    "# Plotting a scatter plot\n",
    "fig, ax = plt.subplots(figsize=(10,6))\n",
    "ax.scatter(df['HydraulicPressureDelta_bar'], df ['ConcreteConsistency_mm'])\n",
    "ax.set_xlabel('HydraulicPressureDelta_bar')\n",
    "ax.set_ylabel('ConcreteConsistency_mm')\n",
    "plt.show()"
   ]
  },
  {
   "cell_type": "markdown",
   "metadata": {},
   "source": [
    "From the above plot, it is evident that, as the value of hydraulic pressure increases, the concrete consistancy decreases. This was previously observed in heat maps and is also seen in 2-D scatter plots."
   ]
  },
  {
   "cell_type": "markdown",
   "metadata": {},
   "source": [
    "**Answers / comments / reasoning:**\n",
    "\n"
   ]
  },
  {
   "cell_type": "markdown",
   "metadata": {},
   "source": [
    "## Part 3 - Building prediction models\n",
    "\n",
    "**Tasks:**\n",
    "1. Build a prediction model for ConcreteConsistency_mm with Random Forest, preferably making use of following python libraries: scikit-learn.\n",
    "2. Select a test metric and report the value of the test metric on the provided data. "
   ]
  },
  {
   "cell_type": "markdown",
   "metadata": {},
   "source": [
    "Splittng the data is an vital step before we built a model becasue we need data for both train the model and test the model that we built. So in the current case, I am splitting a data as train : test as 80 : 20. "
   ]
  },
  {
   "cell_type": "code",
   "execution_count": 213,
   "metadata": {},
   "outputs": [
    {
     "data": {
      "text/plain": [
       "28     523.33\n",
       "29     523.33\n",
       "30     523.33\n",
       "31     523.33\n",
       "32     523.33\n",
       "        ...  \n",
       "735    513.33\n",
       "736    513.33\n",
       "737    513.33\n",
       "738    513.33\n",
       "739    513.33\n",
       "Name: ConcreteConsistency_mm, Length: 650, dtype: float64"
      ]
     },
     "execution_count": 213,
     "metadata": {},
     "output_type": "execute_result"
    }
   ],
   "source": [
    "\n",
    "y = df.ConcreteConsistency_mm\n",
    "y"
   ]
  },
  {
   "cell_type": "code",
   "execution_count": 214,
   "metadata": {},
   "outputs": [
    {
     "data": {
      "text/html": [
       "<div>\n",
       "<style scoped>\n",
       "    .dataframe tbody tr th:only-of-type {\n",
       "        vertical-align: middle;\n",
       "    }\n",
       "\n",
       "    .dataframe tbody tr th {\n",
       "        vertical-align: top;\n",
       "    }\n",
       "\n",
       "    .dataframe thead th {\n",
       "        text-align: right;\n",
       "    }\n",
       "</style>\n",
       "<table border=\"1\" class=\"dataframe\">\n",
       "  <thead>\n",
       "    <tr style=\"text-align: right;\">\n",
       "      <th></th>\n",
       "      <th>DrumSpeed_rpm</th>\n",
       "      <th>ConcreteWeight_t</th>\n",
       "      <th>HydraulicPressureDelta_bar</th>\n",
       "    </tr>\n",
       "  </thead>\n",
       "  <tbody>\n",
       "    <tr>\n",
       "      <th>28</th>\n",
       "      <td>11.41</td>\n",
       "      <td>11646.43</td>\n",
       "      <td>78.64</td>\n",
       "    </tr>\n",
       "    <tr>\n",
       "      <th>29</th>\n",
       "      <td>0.94</td>\n",
       "      <td>11646.43</td>\n",
       "      <td>42.29</td>\n",
       "    </tr>\n",
       "    <tr>\n",
       "      <th>30</th>\n",
       "      <td>3.69</td>\n",
       "      <td>11646.43</td>\n",
       "      <td>53.72</td>\n",
       "    </tr>\n",
       "    <tr>\n",
       "      <th>31</th>\n",
       "      <td>3.68</td>\n",
       "      <td>11646.43</td>\n",
       "      <td>49.95</td>\n",
       "    </tr>\n",
       "    <tr>\n",
       "      <th>32</th>\n",
       "      <td>3.66</td>\n",
       "      <td>11646.43</td>\n",
       "      <td>52.61</td>\n",
       "    </tr>\n",
       "    <tr>\n",
       "      <th>...</th>\n",
       "      <td>...</td>\n",
       "      <td>...</td>\n",
       "      <td>...</td>\n",
       "    </tr>\n",
       "    <tr>\n",
       "      <th>735</th>\n",
       "      <td>6.05</td>\n",
       "      <td>14720.00</td>\n",
       "      <td>49.19</td>\n",
       "    </tr>\n",
       "    <tr>\n",
       "      <th>736</th>\n",
       "      <td>6.05</td>\n",
       "      <td>14720.00</td>\n",
       "      <td>48.81</td>\n",
       "    </tr>\n",
       "    <tr>\n",
       "      <th>737</th>\n",
       "      <td>6.01</td>\n",
       "      <td>14720.00</td>\n",
       "      <td>51.24</td>\n",
       "    </tr>\n",
       "    <tr>\n",
       "      <th>738</th>\n",
       "      <td>3.66</td>\n",
       "      <td>14720.00</td>\n",
       "      <td>40.17</td>\n",
       "    </tr>\n",
       "    <tr>\n",
       "      <th>739</th>\n",
       "      <td>3.65</td>\n",
       "      <td>14720.00</td>\n",
       "      <td>41.99</td>\n",
       "    </tr>\n",
       "  </tbody>\n",
       "</table>\n",
       "<p>650 rows × 3 columns</p>\n",
       "</div>"
      ],
      "text/plain": [
       "     DrumSpeed_rpm  ConcreteWeight_t  HydraulicPressureDelta_bar\n",
       "28           11.41          11646.43                       78.64\n",
       "29            0.94          11646.43                       42.29\n",
       "30            3.69          11646.43                       53.72\n",
       "31            3.68          11646.43                       49.95\n",
       "32            3.66          11646.43                       52.61\n",
       "..             ...               ...                         ...\n",
       "735           6.05          14720.00                       49.19\n",
       "736           6.05          14720.00                       48.81\n",
       "737           6.01          14720.00                       51.24\n",
       "738           3.66          14720.00                       40.17\n",
       "739           3.65          14720.00                       41.99\n",
       "\n",
       "[650 rows x 3 columns]"
      ]
     },
     "execution_count": 214,
     "metadata": {},
     "output_type": "execute_result"
    }
   ],
   "source": [
    "x = df.drop('ConcreteConsistency_mm',axis=1)\n",
    "x"
   ]
  },
  {
   "cell_type": "code",
   "execution_count": 215,
   "metadata": {},
   "outputs": [
    {
     "data": {
      "text/html": [
       "<div>\n",
       "<style scoped>\n",
       "    .dataframe tbody tr th:only-of-type {\n",
       "        vertical-align: middle;\n",
       "    }\n",
       "\n",
       "    .dataframe tbody tr th {\n",
       "        vertical-align: top;\n",
       "    }\n",
       "\n",
       "    .dataframe thead th {\n",
       "        text-align: right;\n",
       "    }\n",
       "</style>\n",
       "<table border=\"1\" class=\"dataframe\">\n",
       "  <thead>\n",
       "    <tr style=\"text-align: right;\">\n",
       "      <th></th>\n",
       "      <th>DrumSpeed_rpm</th>\n",
       "      <th>ConcreteWeight_t</th>\n",
       "      <th>HydraulicPressureDelta_bar</th>\n",
       "    </tr>\n",
       "  </thead>\n",
       "  <tbody>\n",
       "    <tr>\n",
       "      <th>28</th>\n",
       "      <td>11.41</td>\n",
       "      <td>11646.43</td>\n",
       "      <td>78.64</td>\n",
       "    </tr>\n",
       "    <tr>\n",
       "      <th>29</th>\n",
       "      <td>0.94</td>\n",
       "      <td>11646.43</td>\n",
       "      <td>42.29</td>\n",
       "    </tr>\n",
       "    <tr>\n",
       "      <th>30</th>\n",
       "      <td>3.69</td>\n",
       "      <td>11646.43</td>\n",
       "      <td>53.72</td>\n",
       "    </tr>\n",
       "    <tr>\n",
       "      <th>31</th>\n",
       "      <td>3.68</td>\n",
       "      <td>11646.43</td>\n",
       "      <td>49.95</td>\n",
       "    </tr>\n",
       "    <tr>\n",
       "      <th>32</th>\n",
       "      <td>3.66</td>\n",
       "      <td>11646.43</td>\n",
       "      <td>52.61</td>\n",
       "    </tr>\n",
       "  </tbody>\n",
       "</table>\n",
       "</div>"
      ],
      "text/plain": [
       "    DrumSpeed_rpm  ConcreteWeight_t  HydraulicPressureDelta_bar\n",
       "28          11.41          11646.43                       78.64\n",
       "29           0.94          11646.43                       42.29\n",
       "30           3.69          11646.43                       53.72\n",
       "31           3.68          11646.43                       49.95\n",
       "32           3.66          11646.43                       52.61"
      ]
     },
     "execution_count": 215,
     "metadata": {},
     "output_type": "execute_result"
    }
   ],
   "source": [
    "x.head()"
   ]
  },
  {
   "cell_type": "code",
   "execution_count": 216,
   "metadata": {},
   "outputs": [
    {
     "data": {
      "text/plain": [
       "28    523.33\n",
       "29    523.33\n",
       "30    523.33\n",
       "31    523.33\n",
       "32    523.33\n",
       "Name: ConcreteConsistency_mm, dtype: float64"
      ]
     },
     "execution_count": 216,
     "metadata": {},
     "output_type": "execute_result"
    }
   ],
   "source": [
    "y.head()"
   ]
  },
  {
   "cell_type": "code",
   "execution_count": 217,
   "metadata": {},
   "outputs": [],
   "source": [
    "x_train, x_test, y_train, y_test = train_test_split(x,y,test_size=0.2)"
   ]
  },
  {
   "cell_type": "code",
   "execution_count": 218,
   "metadata": {},
   "outputs": [
    {
     "name": "stdout",
     "output_type": "stream",
     "text": [
      "Shape of Original dataset: (650, 4)\n",
      "Shape of input - training set: (520, 3)\n",
      "Shape of output - training set: (520,)\n",
      "Shape of input - testing set: (130, 3)\n",
      "Shape of output - testing set: (130,)\n"
     ]
    }
   ],
   "source": [
    "print('Shape of Original dataset:', df.shape)\n",
    "print('Shape of input - training set:', x_train.shape)\n",
    "print('Shape of output - training set:', y_train.shape)\n",
    "print('Shape of input - testing set:', x_test.shape)\n",
    "print('Shape of output - testing set:', y_test.shape)\n"
   ]
  },
  {
   "cell_type": "code",
   "execution_count": 219,
   "metadata": {},
   "outputs": [],
   "source": [
    "# scaler = StandardScaler()\n",
    "# x_train = scaler.fit_transform(x_train)\n",
    "\n",
    "# x_test = scaler.fit_transform(x_test)\n",
    "\n",
    "\n",
    "# #y_train = y_train.values.reshape(-1, 1)\n",
    "# y_train = scaler.fit_transform(y_train)\n",
    "\n",
    "\n",
    "\n",
    "# #y_test = y_test.values.reshape(-1, 1)\n",
    "# y_test = scaler.fit_transform(y_test)"
   ]
  },
  {
   "cell_type": "code",
   "execution_count": 220,
   "metadata": {},
   "outputs": [],
   "source": [
    "# Import the model we are using\n",
    "from sklearn.ensemble import RandomForestRegressor\n",
    "\n",
    "# Instantiate model with 1000 decision trees\n",
    "rf = RandomForestRegressor()\n",
    "\n",
    "# Train the model on training data\n",
    "rf.fit(x_train, y_train);"
   ]
  },
  {
   "cell_type": "code",
   "execution_count": 221,
   "metadata": {},
   "outputs": [
    {
     "name": "stdout",
     "output_type": "stream",
     "text": [
      "Mean Absolute Error: 2.45\n"
     ]
    }
   ],
   "source": [
    "# Use the forest's predict method on the test data\n",
    "predictions = rf.predict(x_test)\n",
    "\n",
    "\n",
    "# Calculate the absolute errors\n",
    "errors = abs(predictions - y_test)\n",
    "\n",
    "# Print out the mean absolute error (mae)\n",
    "print('Mean Absolute Error:', round(np.mean(errors), 2))\n",
    "\n"
   ]
  },
  {
   "cell_type": "code",
   "execution_count": 222,
   "metadata": {},
   "outputs": [
    {
     "name": "stdout",
     "output_type": "stream",
     "text": [
      "MAPE: 0.46173909308986033\n",
      "Accuracy: 99.54 %.\n"
     ]
    }
   ],
   "source": [
    "\n",
    "# Calculate mean absolute percentage error (MAPE)\n",
    "mape = 100 * (errors / y_test)\n",
    "print('MAPE:', mean(mape))\n",
    "\n",
    "\n",
    "# Calculate and display accuracy\n",
    "accuracy = 100 - np.mean(mape)\n",
    "\n",
    "print('Accuracy:', round(accuracy, 2), '%.')\n"
   ]
  },
  {
   "cell_type": "markdown",
   "metadata": {},
   "source": [
    "In the current project, before model building, even standardisation of data is tried, but the accuracy with standardzation  was 97.6%, but without standardization, the accuracy was 99.54%. So I skipped the step of standardisation of data."
   ]
  },
  {
   "cell_type": "markdown",
   "metadata": {},
   "source": [
    "**Answers / comments / reasoning:**\n",
    "\n"
   ]
  },
  {
   "cell_type": "markdown",
   "metadata": {},
   "source": [
    "## Part 4 - Reflection / comments\n",
    "\n",
    "**Tasks:**\n",
    "(Optional) Please share with us any free form reflection, comments or feedback you have in the context of this test task."
   ]
  },
  {
   "cell_type": "markdown",
   "metadata": {},
   "source": [
    "Conclusion \n",
    "\n",
    "1. The dataset does not have any missing values or null values, so no data imputation is required.\n",
    "\n",
    "2. The data has features called time and file name, which do not contribute to moodel building or accuracy of prediction, so these features are removed and do not need to be included in the future data collection process.\n",
    "\n",
    "3. From outlier analysis, there were outliers in the features which have been removed by suitable oulier removal technique (IQR).\n",
    "\n",
    "4. The data standardisation decreases the accuracy of the model, so this step is not considered.\n",
    "5. Mean absolute error, Mean absolute percentage error and accuracy are choosen as metric and the Random forest model is been evaluated.\n",
    "6. Since the model is given very good accuracy at its deafult parametrs, hyper parameter tuning is not included in the analysis\n",
    "7. Random Forest model gives the accuracy of  <b>99.54 percent of accuracy with MAE and MAPE being 2.45 and 0.4617.\n",
    "8. The results are very good with such a high accuracy and very low error values\n"
   ]
  },
  {
   "cell_type": "markdown",
   "metadata": {},
   "source": [
    "## Submission\n",
    "\n",
    "Please submit this notebook with your developments in .ipynb and .html formats as well as your requirements.txt file."
   ]
  },
  {
   "cell_type": "code",
   "execution_count": 2,
   "metadata": {},
   "outputs": [
    {
     "name": "stderr",
     "output_type": "stream",
     "text": [
      "[NbConvertApp] Converting notebook CodingTask_20220117.ipynb to html\n",
      "[NbConvertApp] Writing 876373 bytes to CodingTask_20220117.html\n"
     ]
    }
   ],
   "source": [
    "! jupyter nbconvert --to html CodingTask_20220117.ipynb"
   ]
  },
  {
   "cell_type": "code",
   "execution_count": null,
   "metadata": {},
   "outputs": [],
   "source": []
  }
 ],
 "metadata": {
  "kernelspec": {
   "display_name": "Python 3",
   "language": "python",
   "name": "python3"
  },
  "language_info": {
   "codemirror_mode": {
    "name": "ipython",
    "version": 3
   },
   "file_extension": ".py",
   "mimetype": "text/x-python",
   "name": "python",
   "nbconvert_exporter": "python",
   "pygments_lexer": "ipython3",
   "version": "3.8.8"
  }
 },
 "nbformat": 4,
 "nbformat_minor": 2
}
